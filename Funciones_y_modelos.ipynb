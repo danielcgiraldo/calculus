{
  "nbformat": 4,
  "nbformat_minor": 0,
  "metadata": {
    "colab": {
      "provenance": [],
      "toc_visible": true,
      "authorship_tag": "ABX9TyMCi+GYNJK7bZGNNJg1GGr+",
      "include_colab_link": true
    },
    "kernelspec": {
      "name": "python3",
      "display_name": "Python 3"
    },
    "language_info": {
      "name": "python"
    }
  },
  "cells": [
    {
      "cell_type": "markdown",
      "metadata": {
        "id": "view-in-github",
        "colab_type": "text"
      },
      "source": [
        "<a href=\"https://colab.research.google.com/github/danielcgiraldo/calculus/blob/main/Funciones_y_modelos.ipynb\" target=\"_parent\"><img src=\"https://colab.research.google.com/assets/colab-badge.svg\" alt=\"Open In Colab\"/></a>"
      ]
    },
    {
      "cell_type": "markdown",
      "source": [
        "# I. Funciones y modelos\n",
        "\n",
        "$f(x)=y$"
      ],
      "metadata": {
        "id": "xeVZatUkfAc9"
      }
    },
    {
      "cell_type": "markdown",
      "source": [
        "En primer lugar, debemos **definir una función en Python**. Para ello, utilizaremos el concepto de función en un lenguaje de programación. A modo de ejemplo, consideremos la función matemática:\n",
        "\n",
        "$f(x) = x^2 + 2$\n",
        "\n",
        "En Python, podemos definir esta función de la siguiente manera:"
      ],
      "metadata": {
        "id": "pqu_xuxyfqHS"
      }
    },
    {
      "cell_type": "markdown",
      "source": [
        "### Representación de funciones\n",
        "\n",
        "#### Algebraicamente\n",
        "\n",
        "Con una fórmula explícita"
      ],
      "metadata": {
        "id": "SuoFwCQQIiRV"
      }
    },
    {
      "cell_type": "code",
      "source": [
        "# Definir función\n",
        "def f(x):\n",
        "  return x ** 2"
      ],
      "metadata": {
        "id": "hAv68BmmmkDP"
      },
      "execution_count": null,
      "outputs": []
    },
    {
      "cell_type": "markdown",
      "source": [
        "#### Númericamente\n",
        "\n",
        "Con una tabla de valores.\n",
        "\n",
        "| t | Población |\n",
        "| - | --------- |\n",
        "| 0 | 1650 |"
      ],
      "metadata": {
        "id": "yrCx2MxmIxno"
      }
    },
    {
      "cell_type": "markdown",
      "source": [
        "#### Visualmente\n",
        "\n",
        "Con una gráfica.\n",
        "\n",
        "Para **graficar** la función anterior en python:"
      ],
      "metadata": {
        "id": "rl4KyFxHIgpv"
      }
    },
    {
      "cell_type": "code",
      "source": [
        "# Librerías necesarias\n",
        "import matplotlib.pyplot as plt\n",
        "import numpy as np\n",
        "\n",
        "# Generar dominio (dentro de un intervalo)\n",
        "x = np.linspace(-5, 5, 1000)\n",
        "y = f(x)\n",
        "\n",
        "# Gráficar la información\n",
        "plt.plot(x, y)\n",
        "plt.show()"
      ],
      "metadata": {
        "colab": {
          "base_uri": "https://localhost:8080/",
          "height": 430
        },
        "id": "TIbAcvCCgJFD",
        "outputId": "7d556497-2c3f-467e-cb7e-107c60f26bff"
      },
      "execution_count": 14,
      "outputs": [
        {
          "output_type": "display_data",
          "data": {
            "text/plain": [
              "<Figure size 640x480 with 1 Axes>"
            ],
            "image/png": "[encoded data removed]"
          },
          "metadata": {}
        }
      ]
    },
    {
      "cell_type": "markdown",
      "source": [
        "Podemos obtener cierta información de esta función, como:\n",
        "\n",
        "- **Dominio**: El conjunto de valores para los cuales la función está definida.\n",
        "- **Rango**: El conjunto de valores que la función puede tomar.\n"
      ],
      "metadata": {
        "id": "tahqOWOlkEct"
      }
    },
    {
      "cell_type": "code",
      "source": [
        "# Librerías necesarias\n",
        "from sympy import Interval, Symbol, S, tan, log, pi, sqrt\n",
        "from sympy.calculus.util import continuous_domain, function_range\n",
        "\n",
        "# Convertir x a símbolo de sympy\n",
        "x = Symbol('x')\n",
        "\n",
        "# Calcular el dominio de la función\n",
        "dominio = continuous_domain(f(x), x, S.Reals)\n",
        "\n",
        "# Calcular el rango de la función\n",
        "rango = function_range(f(x), x, dominio)\n",
        "\n",
        "print(\"Dominio:\", dominio)\n",
        "print(\"Rango:\", rango)\n"
      ],
      "metadata": {
        "colab": {
          "base_uri": "https://localhost:8080/"
        },
        "id": "yFZpJEQTkUQT",
        "outputId": "6e052a11-f332-4570-bdce-1693f65c842f"
      },
      "execution_count": 15,
      "outputs": [
        {
          "output_type": "stream",
          "name": "stdout",
          "text": [
            "Dominio: Reals\n",
            "Rango: Interval(2, oo)\n"
          ]
        }
      ]
    },
    {
      "cell_type": "markdown",
      "source": [
        "### Simetría\n",
        "\n",
        "- **Función par:** $f(-x) = f(x)$\n",
        "- **Función impar:** $f(-x) = -f(x)$"
      ],
      "metadata": {
        "id": "yNLe-ijLIbi1"
      }
    },
    {
      "cell_type": "code",
      "source": [
        "import numpy as np\n",
        "\n",
        "x = np.linspace(-5, 5, 1000)\n",
        "\n",
        "def g(x):\n",
        "  return x ** 3\n",
        "\n",
        "\"\"\"\n",
        "DISCLAIMER:\n",
        "Es importante tener en cuenta que si la función pierde su simetría fuera del\n",
        "intervalo (-5, 5), el método utilizado para determinar si es par o impar\n",
        "podría ser incorrecto.\n",
        "\"\"\"\n",
        "\n",
        "# -------- Par -------- #\n",
        "\n",
        "if np.allclose(f(-x), f(x)):\n",
        "    print(\"Función par\")\n",
        "\n",
        "# -------- Impar -------- #\n",
        "\n",
        "if np.allclose(g(-x), -g(x)):\n",
        "    print(\"Función impar\")"
      ],
      "metadata": {
        "id": "nge8G5CWJsij",
        "outputId": "c98d82ff-4e7a-480b-d4d8-70a284f60790",
        "colab": {
          "base_uri": "https://localhost:8080/"
        }
      },
      "execution_count": 22,
      "outputs": [
        {
          "output_type": "stream",
          "name": "stdout",
          "text": [
            "Función par\n",
            "Función impar\n"
          ]
        }
      ]
    }
  ]
}